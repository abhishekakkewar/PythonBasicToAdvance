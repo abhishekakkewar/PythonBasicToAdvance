{
 "cells": [
  {
   "cell_type": "markdown",
   "id": "440f249e",
   "metadata": {},
   "source": [
    "# 01\n",
    "\n",
    "My_list = [\"apple\", \"banana\", \"grapefruit\", \"orange\", \"melon\", \"kiwi\", \"peach\"].\n",
    "\n",
    "Please perform following operations on the list above.\n",
    "\n",
    "1- Remove any word that has less than 5 characters.  \n",
    "2- Reverse the remaining words.  \n",
    "3- Convert the reversed words to uppercase.  \n",
    "4- Sort the reversed and uppercase words in descending order.  "
   ]
  },
  {
   "cell_type": "code",
   "execution_count": 14,
   "id": "c7401a49",
   "metadata": {},
   "outputs": [],
   "source": [
    "My_list = [\"apple\", \"banana\", \"grapefruit\", \"orange\", \"melon\", \"kiwi\", \"peach\"]"
   ]
  },
  {
   "cell_type": "code",
   "execution_count": 15,
   "id": "3b825687",
   "metadata": {},
   "outputs": [],
   "source": [
    "def rem(li):\n",
    "    for i in li:\n",
    "        if len(i)<5:\n",
    "            My_list.remove(i)\n",
    "    print(My_list)\n",
    "            "
   ]
  },
  {
   "cell_type": "code",
   "execution_count": 42,
   "id": "69b36e67",
   "metadata": {},
   "outputs": [
    {
     "name": "stdout",
     "output_type": "stream",
     "text": [
      "['apple', 'banana', 'grapefruit', 'orange', 'melon', 'peach']\n"
     ]
    }
   ],
   "source": [
    "rem(My_list)"
   ]
  },
  {
   "cell_type": "code",
   "execution_count": 17,
   "id": "ad36309c",
   "metadata": {},
   "outputs": [
    {
     "data": {
      "text/plain": [
       "['peach', 'melon', 'orange', 'grapefruit', 'banana', 'apple']"
      ]
     },
     "execution_count": 17,
     "metadata": {},
     "output_type": "execute_result"
    }
   ],
   "source": [
    "rev_list = My_list[::-1]\n",
    "print(rev_list)"
   ]
  },
  {
   "cell_type": "code",
   "execution_count": 23,
   "id": "3da91dc8",
   "metadata": {},
   "outputs": [
    {
     "name": "stdout",
     "output_type": "stream",
     "text": [
      "['PEACH', 'MELON', 'ORANGE', 'GRAPEFRUIT', 'BANANA', 'APPLE']\n"
     ]
    }
   ],
   "source": [
    "#Method 1\n",
    "up_list = []\n",
    "def up_li(li):\n",
    "    for i in li:\n",
    "        a = i.upper()\n",
    "        up_list.append(a)\n",
    "    print(up_list)\n",
    "\n",
    "up_li(rev_list)"
   ]
  },
  {
   "cell_type": "code",
   "execution_count": 28,
   "id": "c8f5dd38",
   "metadata": {},
   "outputs": [
    {
     "name": "stdout",
     "output_type": "stream",
     "text": [
      "peach melon orange grapefruit banana apple\n",
      "['PEACH', 'MELON', 'ORANGE', 'GRAPEFRUIT', 'BANANA', 'APPLE']\n"
     ]
    }
   ],
   "source": [
    "#method 02\n",
    "li = ' '.join(rev_list)\n",
    "print(li)\n",
    "upper_str = li.upper()\n",
    "upper_list2 = upper_str.split(' ')\n",
    "print(upper_list2)"
   ]
  },
  {
   "cell_type": "code",
   "execution_count": 32,
   "id": "f0316f92",
   "metadata": {},
   "outputs": [
    {
     "name": "stdout",
     "output_type": "stream",
     "text": [
      "['apple', 'banana', 'grapefruit', 'melon', 'orange', 'peach']\n"
     ]
    }
   ],
   "source": [
    "rev_list.sort()\n",
    "print(rev_list)"
   ]
  },
  {
   "cell_type": "code",
   "execution_count": 33,
   "id": "013807a9",
   "metadata": {},
   "outputs": [
    {
     "name": "stdout",
     "output_type": "stream",
     "text": [
      "['APPLE', 'BANANA', 'GRAPEFRUIT', 'MELON', 'ORANGE', 'PEACH']\n"
     ]
    }
   ],
   "source": [
    "upper_list2.sort()\n",
    "print(upper_list2)"
   ]
  },
  {
   "cell_type": "markdown",
   "id": "ae69e7a6",
   "metadata": {},
   "source": [
    "# 02\n",
    "\n",
    "Purchase_records = ((\"Apple\", 0.99), (\"Banana\", 0.5), (\"Orange\", 0.75), (\"Grapes\", 1.25))\n",
    "\n",
    "Please perform the following operations on the tuple above.\n",
    "\n",
    "1- Find the total number of products.  \n",
    "2- Calculate the total cost of all purchases.  \n",
    "3- Find the average price of the product  "
   ]
  },
  {
   "cell_type": "code",
   "execution_count": 34,
   "id": "66c175a1",
   "metadata": {},
   "outputs": [],
   "source": [
    "Purchase_records = ((\"Apple\", 0.99), (\"Banana\", 0.5), (\"Orange\", 0.75), (\"Grapes\", 1.25))"
   ]
  },
  {
   "cell_type": "code",
   "execution_count": 36,
   "id": "5ea34d36",
   "metadata": {},
   "outputs": [
    {
     "name": "stdout",
     "output_type": "stream",
     "text": [
      "4\n"
     ]
    }
   ],
   "source": [
    "product_count = len(Purchase_records)\n",
    "print(product_count)"
   ]
  },
  {
   "cell_type": "code",
   "execution_count": 39,
   "id": "0f4c17b4",
   "metadata": {},
   "outputs": [
    {
     "name": "stdout",
     "output_type": "stream",
     "text": [
      "3.49\n"
     ]
    }
   ],
   "source": [
    "def total_cost(tup):\n",
    "    total = 0\n",
    "    for i in range(len(tup)):\n",
    "        a = tup[i][1]\n",
    "        total += a\n",
    "    print(total)\n",
    "total_cost(Purchase_records)"
   ]
  },
  {
   "cell_type": "code",
   "execution_count": 40,
   "id": "45ad717b",
   "metadata": {},
   "outputs": [
    {
     "name": "stdout",
     "output_type": "stream",
     "text": [
      "0.8725\n"
     ]
    }
   ],
   "source": [
    "def avg_cost(tup):\n",
    "    total = 0\n",
    "    for i in range(len(tup)):\n",
    "        a = tup[i][1]\n",
    "        total += a\n",
    "        avg = total/len(tup)\n",
    "    print(avg)\n",
    "avg_cost(Purchase_records)"
   ]
  },
  {
   "cell_type": "markdown",
   "id": "6dd9a6d7",
   "metadata": {},
   "source": [
    "# 03\n",
    "\n",
    "Write a Python program to calculate the area of a rectangle with length 5cm and width 3 cm.  \n",
    "  "
   ]
  },
  {
   "cell_type": "code",
   "execution_count": 1,
   "id": "0b169bf8",
   "metadata": {},
   "outputs": [
    {
     "data": {
      "text/plain": [
       "30"
      ]
     },
     "execution_count": 1,
     "metadata": {},
     "output_type": "execute_result"
    }
   ],
   "source": [
    "def rec_area(length, width):\n",
    "    area = length * width\n",
    "    return area\n",
    "rec_area(5,6)"
   ]
  },
  {
   "cell_type": "markdown",
   "id": "887dd03e",
   "metadata": {},
   "source": [
    "# 04\n",
    "Write a Python program that performs the following operations on the list.  \n",
    "   num_list = [2, 5, 8, 3, 6, 2, 9, 8, 7, 1, 4, 3, 5]  \n",
    "   a- Find the maximum value in the list.  \n",
    "   b- Calculate the sum of all the even numbers in the list.  \n",
    "   c- Check if the list contains any duplicate elements.  \n",
    "   d- Remove all the prime numbers from the list."
   ]
  },
  {
   "cell_type": "code",
   "execution_count": 27,
   "id": "038d3c42",
   "metadata": {},
   "outputs": [],
   "source": [
    "num_list = [2, 5, 8, 3, 6, 2, 9, 8, 7, 1, 4, 3, 5]"
   ]
  },
  {
   "cell_type": "code",
   "execution_count": 28,
   "id": "39928fff",
   "metadata": {},
   "outputs": [
    {
     "name": "stdout",
     "output_type": "stream",
     "text": [
      "9\n"
     ]
    }
   ],
   "source": [
    "max_num = max(num_list)\n",
    "print(max_num)"
   ]
  },
  {
   "cell_type": "code",
   "execution_count": 29,
   "id": "1639b23b",
   "metadata": {},
   "outputs": [
    {
     "data": {
      "text/plain": [
       "30"
      ]
     },
     "execution_count": 29,
     "metadata": {},
     "output_type": "execute_result"
    }
   ],
   "source": [
    "def sum_even(li):\n",
    "    total=0\n",
    "    for i in li:\n",
    "        if i % 2 == 0:\n",
    "            total += i\n",
    "    return total\n",
    "sum_even(num_list)\n",
    "            "
   ]
  },
  {
   "cell_type": "code",
   "execution_count": 30,
   "id": "709fc640",
   "metadata": {},
   "outputs": [
    {
     "name": "stdout",
     "output_type": "stream",
     "text": [
      "found a duplicate!\n"
     ]
    }
   ],
   "source": [
    "def isduplicate(li):\n",
    "    for j in range(len(num_list)):\n",
    "        for k in range(len(num_list)):\n",
    "            if num_list[j] == num_list[k]:\n",
    "                print(\"found a duplicate\")\n",
    "                return\n",
    "isduplicate(num_list)        "
   ]
  },
  {
   "cell_type": "code",
   "execution_count": 31,
   "id": "0fd6baad",
   "metadata": {},
   "outputs": [],
   "source": [
    "def isprime(num):\n",
    "    if num > 1:\n",
    "        for i in range(2, int(num/2)+1):\n",
    "            if (num % i) == 0:\n",
    "                return False\n",
    "                break\n",
    "        else:\n",
    "            return True\n",
    "    else:\n",
    "        return False"
   ]
  },
  {
   "cell_type": "code",
   "execution_count": 48,
   "id": "3eaba205",
   "metadata": {},
   "outputs": [
    {
     "data": {
      "text/plain": [
       "[8, 6, 9, 8, 1, 4]"
      ]
     },
     "execution_count": 48,
     "metadata": {},
     "output_type": "execute_result"
    }
   ],
   "source": [
    "num_list_1 = [2, 5, 8, 3, 6, 2, 9, 8, 7, 1, 4, 3, 5]\n",
    "def remove_prime(li):\n",
    "    return [num for num in li if not isprime(num)] \n",
    "    \n",
    "remove_prime(num_list_1)"
   ]
  },
  {
   "cell_type": "markdown",
   "id": "44f5f7cf",
   "metadata": {},
   "source": [
    "# 05\n",
    "Write a Python program that takes a list of integers as input and checks if the list is in non-decreasing order. A list is considered non-decreasing if each element is greater than or equal to the previous element.\n",
    "\n",
    "\n"
   ]
  },
  {
   "cell_type": "code",
   "execution_count": 10,
   "id": "36f7d054",
   "metadata": {},
   "outputs": [
    {
     "name": "stdout",
     "output_type": "stream",
     "text": [
      "list is in decreasing order\n",
      "list is in non-decreasing order\n"
     ]
    }
   ],
   "source": [
    "list1 = [1,2,4,5,6,7,9]\n",
    "list2 = [9,2,4,5,8,6,7,9]\n",
    "\n",
    "def check_list_sorted(li):\n",
    "    flag = 0\n",
    "    for i in range(len(li)-1):\n",
    "        if li[i] >= li[i+1]:\n",
    "            flag = 1      \n",
    "    if flag == 1:\n",
    "        print('list is in non-decreasing order')\n",
    "    else:\n",
    "        print('list is in decreasing order')\n",
    "\n",
    "check_list_sorted(list1)\n",
    "check_list_sorted(list2)"
   ]
  },
  {
   "cell_type": "markdown",
   "id": "9d143b34",
   "metadata": {},
   "source": [
    "# 06 \n",
    "Write a Python program that takes three integers as input and determines if they form a Pythagorean triplet. A Pythagorean triplet consists of three positive integers (a, b, c) such that a^2 + b^2 = c^2."
   ]
  },
  {
   "cell_type": "code",
   "execution_count": null,
   "id": "de92773c",
   "metadata": {},
   "outputs": [],
   "source": [
    "a,b,c = input(\"enter three space seprated numbers: \").split(\" \")\n",
    "def func_py(a,b,c):  \n",
    "    a_b_square = (int(a)**2) + (int(b)**2)\n",
    "    c_square = (int(c)**2)   \n",
    "    if a_b_square == c_square:\n",
    "        print(\"Yes\")\n",
    "    else:\n",
    "        print('No')\n",
    "func_py(a,b,c)\n",
    "# 3 4 5"
   ]
  },
  {
   "cell_type": "markdown",
   "id": "06c8f458",
   "metadata": {},
   "source": [
    "# 07 \n",
    "Use a for loop calculate the sum of all even numbers between 1 and 10.\n"
   ]
  },
  {
   "cell_type": "code",
   "execution_count": 11,
   "id": "79363e91",
   "metadata": {},
   "outputs": [
    {
     "name": "stdout",
     "output_type": "stream",
     "text": [
      "30\n"
     ]
    }
   ],
   "source": [
    "total = 0\n",
    "for i in range(1,11):\n",
    "    if i % 2 == 0:\n",
    "        total = total + i        \n",
    "print(total)"
   ]
  },
  {
   "cell_type": "markdown",
   "id": "0e092f16",
   "metadata": {},
   "source": [
    "# 08\n",
    "Use a while loop to write a program that prompts the user to enter a password and validates its strength based on the criteria(Minimum length 8). The program should continue to prompt the user until a strong password is entered.\n",
    "Feel free to write the prompt message as per your choice."
   ]
  },
  {
   "cell_type": "code",
   "execution_count": 1,
   "id": "349be66d",
   "metadata": {},
   "outputs": [
    {
     "name": "stdout",
     "output_type": "stream",
     "text": [
      "Enter strong password: adc\n",
      "Enter valid password\n",
      "Enter strong password: adfsfdf\n",
      "Enter valid password\n",
      "Enter strong password: abhishek\n"
     ]
    }
   ],
   "source": [
    "while True:\n",
    "    password = input(\"Enter strong password: \")\n",
    "    if len(password) < 8:\n",
    "        print(\"Please enter valid password\")\n",
    "    if len(password) >= 8:\n",
    "        break\n",
    "        "
   ]
  },
  {
   "cell_type": "markdown",
   "id": "c8e24690",
   "metadata": {},
   "source": [
    "# 09\n",
    "\n",
    "Write a Python function called 'is_palindrome' that takes a string as input and returns True if the string is a palindrome, and False otherwise. *A palindrome is a word, phrase, number, or other sequence of characters that reads the same forward and backward, ignoring any non-alphanumeric characters and considering case sensitivity.\n",
    "\n",
    "Sample String: \"A man, a plan, a canal: Panama\"."
   ]
  },
  {
   "cell_type": "code",
   "execution_count": 30,
   "id": "e9064695",
   "metadata": {},
   "outputs": [
    {
     "name": "stdout",
     "output_type": "stream",
     "text": [
      "Please enter your input string: mom\n",
      "it is a panlindrome\n"
     ]
    }
   ],
   "source": [
    "def ispalindrome(strinput = input(\"Please enter your input string: \")):\n",
    "    s = strinput.replace(\" \", \"\").lower()\n",
    "    if s == s[::-1]:\n",
    "        print(\"it is a panlindrome\")\n",
    "    else:\n",
    "        print(\"it is not a palindrome\")\n",
    "        \n",
    "ispalindrome()"
   ]
  },
  {
   "cell_type": "markdown",
   "id": "c278b03a",
   "metadata": {},
   "source": [
    "# 10\n",
    "Write a Python function called 'find_duplicates' that takes a list of numbers as input and returns a new list containing only the duplicate numbers from the original list. The order of the duplicate numbers in the new list should be the same as their order in the original list.\n",
    "\n",
    "Sample List: [1, 2, 3, 4, 4, 5, 6, 7, 7, 8, 9, 9]."
   ]
  },
  {
   "cell_type": "code",
   "execution_count": 47,
   "id": "79ab9c4b",
   "metadata": {},
   "outputs": [
    {
     "name": "stdout",
     "output_type": "stream",
     "text": [
      "please enter space seprated list4 5 6 6 9 8 7 3 2 \n",
      "['6']\n"
     ]
    }
   ],
   "source": [
    "def find_duplicates(li = input(\"please enter space seprated list\").split()):\n",
    "    dup_list = []\n",
    "    for i in li:\n",
    "        if li.count(i) > 1 and i not in dup_list:\n",
    "            dup_list.append(i)\n",
    "    print(dup_list)\n",
    "    \n",
    "find_duplicates()\n",
    "    "
   ]
  },
  {
   "cell_type": "code",
   "execution_count": 15,
   "id": "5ace0a4c",
   "metadata": {},
   "outputs": [
    {
     "name": "stdout",
     "output_type": "stream",
     "text": [
      "4 5 8\n"
     ]
    }
   ],
   "source": [
    "# Multiple return\n",
    "def compare_numbers():\n",
    "    a = 4\n",
    "    b = 5\n",
    "    c = 8\n",
    "    if a < b:\n",
    "        return a , b , c\n",
    "    \n",
    "\n",
    "a , b, c = compare_numbers()\n",
    "print(a , b, c)"
   ]
  },
  {
   "cell_type": "markdown",
   "id": "826e87e0",
   "metadata": {},
   "source": [
    "# 11\n",
    "Write a Python function called convert_to_celsius() that takes a list of temperatures in Fahrenheit and uses the map() function to convert each temperature to Celsius. The formula to convert Fahrenheit to Celsius is (temperature - 32) * 5/9. The function should return a new list containing the converted temperatures.\n",
    "sample- temperatures = [98.6, 72, 212, 45, 88.8]"
   ]
  },
  {
   "cell_type": "code",
   "execution_count": 2,
   "id": "1c40281a",
   "metadata": {},
   "outputs": [
    {
     "name": "stdout",
     "output_type": "stream",
     "text": [
      "[37.0, 22.22, 100.0, 7.22, 31.56]\n"
     ]
    }
   ],
   "source": [
    "temperatures = [98.6, 72, 212, 45, 88.8]\n",
    "def convert_to_celsius(temp):\n",
    "    celsius = list(map(lambda x : round(((x - 32)*5/9),2) , temp))\n",
    "    print(celsius)\n",
    "convert_to_celsius(temperatures)"
   ]
  },
  {
   "cell_type": "markdown",
   "id": "391f8bf5",
   "metadata": {},
   "source": [
    "# 12\n",
    "Write a Python function called find_product() that uses the reduce() function to calculate the product of all the numbers in a given list. The function should take a list of integers as input and return the product as an integer.\n",
    "sample list- numbers = [2, 4, 6, 8]"
   ]
  },
  {
   "cell_type": "code",
   "execution_count": 4,
   "id": "73073fff",
   "metadata": {},
   "outputs": [
    {
     "name": "stdout",
     "output_type": "stream",
     "text": [
      "384\n"
     ]
    }
   ],
   "source": [
    "from functools import reduce\n",
    "numbers = [2, 4, 6, 8]\n",
    "def find_product(n):\n",
    "    print(reduce(lambda x, y : x * y, n))\n",
    "find_product(numbers)\n",
    "    \n",
    "#print(reduce(lambda x, y: x + y, (0, 3, 4, 1, -1)))    "
   ]
  },
  {
   "cell_type": "code",
   "execution_count": null,
   "id": "85c5412b",
   "metadata": {},
   "outputs": [],
   "source": []
  }
 ],
 "metadata": {
  "kernelspec": {
   "display_name": "Python 3 (ipykernel)",
   "language": "python",
   "name": "python3"
  },
  "language_info": {
   "codemirror_mode": {
    "name": "ipython",
    "version": 3
   },
   "file_extension": ".py",
   "mimetype": "text/x-python",
   "name": "python",
   "nbconvert_exporter": "python",
   "pygments_lexer": "ipython3",
   "version": "3.10.9"
  }
 },
 "nbformat": 4,
 "nbformat_minor": 5
}
