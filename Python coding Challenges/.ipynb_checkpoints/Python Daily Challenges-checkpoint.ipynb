{
 "cells": [
  {
   "cell_type": "markdown",
   "id": "440f249e",
   "metadata": {},
   "source": [
    "# 01\n",
    "\n",
    "My_list = [\"apple\", \"banana\", \"grapefruit\", \"orange\", \"melon\", \"kiwi\", \"peach\"].\n",
    "\n",
    "Please perform following operations on the list above.\n",
    "\n",
    "1- Remove any word that has less than 5 characters.  \n",
    "2- Reverse the remaining words.  \n",
    "3- Convert the reversed words to uppercase.  \n",
    "4- Sort the reversed and uppercase words in descending order.  "
   ]
  },
  {
   "cell_type": "code",
   "execution_count": 14,
   "id": "c7401a49",
   "metadata": {},
   "outputs": [],
   "source": [
    "My_list = [\"apple\", \"banana\", \"grapefruit\", \"orange\", \"melon\", \"kiwi\", \"peach\"]"
   ]
  },
  {
   "cell_type": "code",
   "execution_count": 15,
   "id": "3b825687",
   "metadata": {},
   "outputs": [],
   "source": [
    "def rem(li):\n",
    "    for i in li:\n",
    "        if len(i)<5:\n",
    "            My_list.remove(i)\n",
    "    print(My_list)\n",
    "            "
   ]
  },
  {
   "cell_type": "code",
   "execution_count": 42,
   "id": "69b36e67",
   "metadata": {},
   "outputs": [
    {
     "name": "stdout",
     "output_type": "stream",
     "text": [
      "['apple', 'banana', 'grapefruit', 'orange', 'melon', 'peach']\n"
     ]
    }
   ],
   "source": [
    "rem(My_list)"
   ]
  },
  {
   "cell_type": "code",
   "execution_count": 17,
   "id": "ad36309c",
   "metadata": {},
   "outputs": [
    {
     "data": {
      "text/plain": [
       "['peach', 'melon', 'orange', 'grapefruit', 'banana', 'apple']"
      ]
     },
     "execution_count": 17,
     "metadata": {},
     "output_type": "execute_result"
    }
   ],
   "source": [
    "rev_list = My_list[::-1]\n",
    "print(rev_list)"
   ]
  },
  {
   "cell_type": "code",
   "execution_count": 23,
   "id": "3da91dc8",
   "metadata": {},
   "outputs": [
    {
     "name": "stdout",
     "output_type": "stream",
     "text": [
      "['PEACH', 'MELON', 'ORANGE', 'GRAPEFRUIT', 'BANANA', 'APPLE']\n"
     ]
    }
   ],
   "source": [
    "#Method 1\n",
    "up_list = []\n",
    "def up_li(li):\n",
    "    for i in li:\n",
    "        a = i.upper()\n",
    "        up_list.append(a)\n",
    "    print(up_list)\n",
    "\n",
    "up_li(rev_list)"
   ]
  },
  {
   "cell_type": "code",
   "execution_count": 28,
   "id": "c8f5dd38",
   "metadata": {},
   "outputs": [
    {
     "name": "stdout",
     "output_type": "stream",
     "text": [
      "peach melon orange grapefruit banana apple\n",
      "['PEACH', 'MELON', 'ORANGE', 'GRAPEFRUIT', 'BANANA', 'APPLE']\n"
     ]
    }
   ],
   "source": [
    "#method 02\n",
    "li = ' '.join(rev_list)\n",
    "print(li)\n",
    "upper_str = li.upper()\n",
    "upper_list2 = upper_str.split(' ')\n",
    "print(upper_list2)"
   ]
  },
  {
   "cell_type": "code",
   "execution_count": 32,
   "id": "f0316f92",
   "metadata": {},
   "outputs": [
    {
     "name": "stdout",
     "output_type": "stream",
     "text": [
      "['apple', 'banana', 'grapefruit', 'melon', 'orange', 'peach']\n"
     ]
    }
   ],
   "source": [
    "rev_list.sort()\n",
    "print(rev_list)"
   ]
  },
  {
   "cell_type": "code",
   "execution_count": 33,
   "id": "013807a9",
   "metadata": {},
   "outputs": [
    {
     "name": "stdout",
     "output_type": "stream",
     "text": [
      "['APPLE', 'BANANA', 'GRAPEFRUIT', 'MELON', 'ORANGE', 'PEACH']\n"
     ]
    }
   ],
   "source": [
    "upper_list2.sort()\n",
    "print(upper_list2)"
   ]
  },
  {
   "cell_type": "markdown",
   "id": "ae69e7a6",
   "metadata": {},
   "source": [
    "# 02\n",
    "\n",
    "Purchase_records = ((\"Apple\", 0.99), (\"Banana\", 0.5), (\"Orange\", 0.75), (\"Grapes\", 1.25))\n",
    "\n",
    "Please perform the following operations on the tuple above.\n",
    "\n",
    "1- Find the total number of products.  \n",
    "2- Calculate the total cost of all purchases.  \n",
    "3- Find the average price of the product  "
   ]
  },
  {
   "cell_type": "code",
   "execution_count": 34,
   "id": "66c175a1",
   "metadata": {},
   "outputs": [],
   "source": [
    "Purchase_records = ((\"Apple\", 0.99), (\"Banana\", 0.5), (\"Orange\", 0.75), (\"Grapes\", 1.25))"
   ]
  },
  {
   "cell_type": "code",
   "execution_count": 36,
   "id": "5ea34d36",
   "metadata": {},
   "outputs": [
    {
     "name": "stdout",
     "output_type": "stream",
     "text": [
      "4\n"
     ]
    }
   ],
   "source": [
    "product_count = len(Purchase_records)\n",
    "print(product_count)"
   ]
  },
  {
   "cell_type": "code",
   "execution_count": 39,
   "id": "0f4c17b4",
   "metadata": {},
   "outputs": [
    {
     "name": "stdout",
     "output_type": "stream",
     "text": [
      "3.49\n"
     ]
    }
   ],
   "source": [
    "def total_cost(tup):\n",
    "    total = 0\n",
    "    for i in range(len(tup)):\n",
    "        a = tup[i][1]\n",
    "        total += a\n",
    "    print(total)\n",
    "total_cost(Purchase_records)"
   ]
  },
  {
   "cell_type": "code",
   "execution_count": 40,
   "id": "45ad717b",
   "metadata": {},
   "outputs": [
    {
     "name": "stdout",
     "output_type": "stream",
     "text": [
      "0.8725\n"
     ]
    }
   ],
   "source": [
    "def avg_cost(tup):\n",
    "    total = 0\n",
    "    for i in range(len(tup)):\n",
    "        a = tup[i][1]\n",
    "        total += a\n",
    "        avg = total/len(tup)\n",
    "    print(avg)\n",
    "avg_cost(Purchase_records)"
   ]
  },
  {
   "cell_type": "markdown",
   "id": "6dd9a6d7",
   "metadata": {},
   "source": [
    "# 03\n",
    "\n",
    "Write a Python program to calculate the area of a rectangle with length 5cm and width 3 cm.  \n",
    "  "
   ]
  },
  {
   "cell_type": "code",
   "execution_count": 1,
   "id": "0b169bf8",
   "metadata": {},
   "outputs": [
    {
     "data": {
      "text/plain": [
       "30"
      ]
     },
     "execution_count": 1,
     "metadata": {},
     "output_type": "execute_result"
    }
   ],
   "source": [
    "def rec_area(length, width):\n",
    "    area = length * width\n",
    "    return area\n",
    "rec_area(5,6)"
   ]
  },
  {
   "cell_type": "markdown",
   "id": "887dd03e",
   "metadata": {},
   "source": [
    "# 04\n",
    "Write a Python program that performs the following operations on the list.  \n",
    "   num_list = [2, 5, 8, 3, 6, 2, 9, 8, 7, 1, 4, 3, 5]  \n",
    "   a- Find the maximum value in the list.  \n",
    "   b- Calculate the sum of all the even numbers in the list.  \n",
    "   c- Check if the list contains any duplicate elements.  \n",
    "   d- Remove all the prime numbers from the list."
   ]
  },
  {
   "cell_type": "code",
   "execution_count": 27,
   "id": "038d3c42",
   "metadata": {},
   "outputs": [],
   "source": [
    "num_list = [2, 5, 8, 3, 6, 2, 9, 8, 7, 1, 4, 3, 5]"
   ]
  },
  {
   "cell_type": "code",
   "execution_count": 28,
   "id": "39928fff",
   "metadata": {},
   "outputs": [
    {
     "name": "stdout",
     "output_type": "stream",
     "text": [
      "9\n"
     ]
    }
   ],
   "source": [
    "max_num = max(num_list)\n",
    "print(max_num)"
   ]
  },
  {
   "cell_type": "code",
   "execution_count": 29,
   "id": "1639b23b",
   "metadata": {},
   "outputs": [
    {
     "data": {
      "text/plain": [
       "30"
      ]
     },
     "execution_count": 29,
     "metadata": {},
     "output_type": "execute_result"
    }
   ],
   "source": [
    "def sum_even(li):\n",
    "    total=0\n",
    "    for i in li:\n",
    "        if i % 2 == 0:\n",
    "            total += i\n",
    "    return total\n",
    "sum_even(num_list)\n",
    "            "
   ]
  },
  {
   "cell_type": "code",
   "execution_count": 30,
   "id": "709fc640",
   "metadata": {},
   "outputs": [
    {
     "name": "stdout",
     "output_type": "stream",
     "text": [
      "found a duplicate!\n"
     ]
    }
   ],
   "source": [
    "def isduplicate(li):\n",
    "    for j in range(len(num_list)):\n",
    "        for k in range(len(num_list)):\n",
    "            if num_list[j] == num_list[k]:\n",
    "                print(\"found a duplicate\")\n",
    "                return\n",
    "isduplicate(num_list)        "
   ]
  },
  {
   "cell_type": "code",
   "execution_count": 31,
   "id": "0fd6baad",
   "metadata": {},
   "outputs": [],
   "source": [
    "def isprime(num):\n",
    "    if num > 1:\n",
    "        for i in range(2, int(num/2)+1):\n",
    "            if (num % i) == 0:\n",
    "                return False\n",
    "                break\n",
    "        else:\n",
    "            return True\n",
    "    else:\n",
    "        return False"
   ]
  },
  {
   "cell_type": "code",
   "execution_count": 48,
   "id": "3eaba205",
   "metadata": {},
   "outputs": [
    {
     "data": {
      "text/plain": [
       "[8, 6, 9, 8, 1, 4]"
      ]
     },
     "execution_count": 48,
     "metadata": {},
     "output_type": "execute_result"
    }
   ],
   "source": [
    "num_list_1 = [2, 5, 8, 3, 6, 2, 9, 8, 7, 1, 4, 3, 5]\n",
    "def remove_prime(li):\n",
    "    return [num for num in li if not isprime(num)] \n",
    "    \n",
    "remove_prime(num_list_1)"
   ]
  },
  {
   "cell_type": "code",
   "execution_count": 1,
   "id": "7325ff78",
   "metadata": {},
   "outputs": [
    {
     "data": {
      "text/plain": [
       "10"
      ]
     },
     "execution_count": 1,
     "metadata": {},
     "output_type": "execute_result"
    }
   ],
   "source": []
  },
  {
   "cell_type": "code",
   "execution_count": null,
   "id": "9eb2aff8",
   "metadata": {},
   "outputs": [],
   "source": []
  }
 ],
 "metadata": {
  "kernelspec": {
   "display_name": "Python 3 (ipykernel)",
   "language": "python",
   "name": "python3"
  },
  "language_info": {
   "codemirror_mode": {
    "name": "ipython",
    "version": 3
   },
   "file_extension": ".py",
   "mimetype": "text/x-python",
   "name": "python",
   "nbconvert_exporter": "python",
   "pygments_lexer": "ipython3",
   "version": "3.10.9"
  }
 },
 "nbformat": 4,
 "nbformat_minor": 5
}
