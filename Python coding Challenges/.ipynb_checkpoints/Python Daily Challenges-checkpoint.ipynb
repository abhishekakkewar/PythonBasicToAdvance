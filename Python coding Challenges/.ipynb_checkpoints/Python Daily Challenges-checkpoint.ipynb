{
 "cells": [
  {
   "cell_type": "markdown",
   "id": "440f249e",
   "metadata": {},
   "source": [
    "# 01\n",
    "\n",
    "My_list = [\"apple\", \"banana\", \"grapefruit\", \"orange\", \"melon\", \"kiwi\", \"peach\"].\n",
    "\n",
    "Please perform following operations on the list above.\n",
    "\n",
    "1- Remove any word that has less than 5 characters.  \n",
    "2- Reverse the remaining words.  \n",
    "3- Convert the reversed words to uppercase.  \n",
    "4- Sort the reversed and uppercase words in descending order.  "
   ]
  },
  {
   "cell_type": "code",
   "execution_count": 14,
   "id": "c7401a49",
   "metadata": {},
   "outputs": [],
   "source": [
    "My_list = [\"apple\", \"banana\", \"grapefruit\", \"orange\", \"melon\", \"kiwi\", \"peach\"]"
   ]
  },
  {
   "cell_type": "code",
   "execution_count": 15,
   "id": "3b825687",
   "metadata": {},
   "outputs": [],
   "source": [
    "def rem(li):\n",
    "    for i in li:\n",
    "        if len(i)<5:\n",
    "            My_list.remove(i)\n",
    "    print(My_list)\n",
    "            "
   ]
  },
  {
   "cell_type": "code",
   "execution_count": 42,
   "id": "69b36e67",
   "metadata": {},
   "outputs": [
    {
     "name": "stdout",
     "output_type": "stream",
     "text": [
      "['apple', 'banana', 'grapefruit', 'orange', 'melon', 'peach']\n"
     ]
    }
   ],
   "source": [
    "rem(My_list)"
   ]
  },
  {
   "cell_type": "code",
   "execution_count": 17,
   "id": "ad36309c",
   "metadata": {},
   "outputs": [
    {
     "data": {
      "text/plain": [
       "['peach', 'melon', 'orange', 'grapefruit', 'banana', 'apple']"
      ]
     },
     "execution_count": 17,
     "metadata": {},
     "output_type": "execute_result"
    }
   ],
   "source": [
    "rev_list = My_list[::-1]\n",
    "print(rev_list)"
   ]
  },
  {
   "cell_type": "code",
   "execution_count": 23,
   "id": "3da91dc8",
   "metadata": {},
   "outputs": [
    {
     "name": "stdout",
     "output_type": "stream",
     "text": [
      "['PEACH', 'MELON', 'ORANGE', 'GRAPEFRUIT', 'BANANA', 'APPLE']\n"
     ]
    }
   ],
   "source": [
    "#Method 1\n",
    "up_list = []\n",
    "def up_li(li):\n",
    "    for i in li:\n",
    "        a = i.upper()\n",
    "        up_list.append(a)\n",
    "    print(up_list)\n",
    "\n",
    "up_li(rev_list)"
   ]
  },
  {
   "cell_type": "code",
   "execution_count": 28,
   "id": "c8f5dd38",
   "metadata": {},
   "outputs": [
    {
     "name": "stdout",
     "output_type": "stream",
     "text": [
      "peach melon orange grapefruit banana apple\n",
      "['PEACH', 'MELON', 'ORANGE', 'GRAPEFRUIT', 'BANANA', 'APPLE']\n"
     ]
    }
   ],
   "source": [
    "#method 02\n",
    "li = ' '.join(rev_list)\n",
    "print(li)\n",
    "upper_str = li.upper()\n",
    "upper_list2 = upper_str.split(' ')\n",
    "print(upper_list2)"
   ]
  },
  {
   "cell_type": "code",
   "execution_count": 32,
   "id": "f0316f92",
   "metadata": {},
   "outputs": [
    {
     "name": "stdout",
     "output_type": "stream",
     "text": [
      "['apple', 'banana', 'grapefruit', 'melon', 'orange', 'peach']\n"
     ]
    }
   ],
   "source": [
    "rev_list.sort()\n",
    "print(rev_list)"
   ]
  },
  {
   "cell_type": "code",
   "execution_count": 33,
   "id": "013807a9",
   "metadata": {},
   "outputs": [
    {
     "name": "stdout",
     "output_type": "stream",
     "text": [
      "['APPLE', 'BANANA', 'GRAPEFRUIT', 'MELON', 'ORANGE', 'PEACH']\n"
     ]
    }
   ],
   "source": [
    "upper_list2.sort()\n",
    "print(upper_list2)"
   ]
  },
  {
   "cell_type": "markdown",
   "id": "ae69e7a6",
   "metadata": {},
   "source": [
    "# 02\n",
    "\n",
    "Purchase_records = ((\"Apple\", 0.99), (\"Banana\", 0.5), (\"Orange\", 0.75), (\"Grapes\", 1.25))\n",
    "\n",
    "Please perform the following operations on the tuple above.\n",
    "\n",
    "1- Find the total number of products.  \n",
    "2- Calculate the total cost of all purchases.  \n",
    "3- Find the average price of the product  "
   ]
  },
  {
   "cell_type": "code",
   "execution_count": 34,
   "id": "66c175a1",
   "metadata": {},
   "outputs": [],
   "source": [
    "Purchase_records = ((\"Apple\", 0.99), (\"Banana\", 0.5), (\"Orange\", 0.75), (\"Grapes\", 1.25))"
   ]
  },
  {
   "cell_type": "code",
   "execution_count": 36,
   "id": "5ea34d36",
   "metadata": {},
   "outputs": [
    {
     "name": "stdout",
     "output_type": "stream",
     "text": [
      "4\n"
     ]
    }
   ],
   "source": [
    "product_count = len(Purchase_records)\n",
    "print(product_count)"
   ]
  },
  {
   "cell_type": "code",
   "execution_count": 39,
   "id": "0f4c17b4",
   "metadata": {},
   "outputs": [
    {
     "name": "stdout",
     "output_type": "stream",
     "text": [
      "3.49\n"
     ]
    }
   ],
   "source": [
    "def total_cost(tup):\n",
    "    total = 0\n",
    "    for i in range(len(tup)):\n",
    "        a = tup[i][1]\n",
    "        total += a\n",
    "    print(total)\n",
    "total_cost(Purchase_records)"
   ]
  },
  {
   "cell_type": "code",
   "execution_count": 40,
   "id": "45ad717b",
   "metadata": {},
   "outputs": [
    {
     "name": "stdout",
     "output_type": "stream",
     "text": [
      "0.8725\n"
     ]
    }
   ],
   "source": [
    "def avg_cost(tup):\n",
    "    total = 0\n",
    "    for i in range(len(tup)):\n",
    "        a = tup[i][1]\n",
    "        total += a\n",
    "        avg = total/len(tup)\n",
    "    print(avg)\n",
    "avg_cost(Purchase_records)"
   ]
  },
  {
   "cell_type": "markdown",
   "id": "6dd9a6d7",
   "metadata": {},
   "source": [
    "# 03\n",
    "\n",
    "Write a Python program to calculate the area of a rectangle with length 5cm and width 3 cm.  \n",
    "  "
   ]
  },
  {
   "cell_type": "code",
   "execution_count": 1,
   "id": "0b169bf8",
   "metadata": {},
   "outputs": [
    {
     "data": {
      "text/plain": [
       "30"
      ]
     },
     "execution_count": 1,
     "metadata": {},
     "output_type": "execute_result"
    }
   ],
   "source": [
    "def rec_area(length, width):\n",
    "    area = length * width\n",
    "    return area\n",
    "rec_area(5,6)"
   ]
  },
  {
   "cell_type": "markdown",
   "id": "887dd03e",
   "metadata": {},
   "source": [
    "# 04\n",
    "Write a Python program that performs the following operations on the list.  \n",
    "   num_list = [2, 5, 8, 3, 6, 2, 9, 8, 7, 1, 4, 3, 5]  \n",
    "   a- Find the maximum value in the list.  \n",
    "   b- Calculate the sum of all the even numbers in the list.  \n",
    "   c- Check if the list contains any duplicate elements.  \n",
    "   d- Remove all the prime numbers from the list."
   ]
  },
  {
   "cell_type": "code",
   "execution_count": 27,
   "id": "038d3c42",
   "metadata": {},
   "outputs": [],
   "source": [
    "num_list = [2, 5, 8, 3, 6, 2, 9, 8, 7, 1, 4, 3, 5]"
   ]
  },
  {
   "cell_type": "code",
   "execution_count": 28,
   "id": "39928fff",
   "metadata": {},
   "outputs": [
    {
     "name": "stdout",
     "output_type": "stream",
     "text": [
      "9\n"
     ]
    }
   ],
   "source": [
    "max_num = max(num_list)\n",
    "print(max_num)"
   ]
  },
  {
   "cell_type": "code",
   "execution_count": 29,
   "id": "1639b23b",
   "metadata": {},
   "outputs": [
    {
     "data": {
      "text/plain": [
       "30"
      ]
     },
     "execution_count": 29,
     "metadata": {},
     "output_type": "execute_result"
    }
   ],
   "source": [
    "def sum_even(li):\n",
    "    total=0\n",
    "    for i in li:\n",
    "        if i % 2 == 0:\n",
    "            total += i\n",
    "    return total\n",
    "sum_even(num_list)\n",
    "            "
   ]
  },
  {
   "cell_type": "code",
   "execution_count": 30,
   "id": "709fc640",
   "metadata": {},
   "outputs": [
    {
     "name": "stdout",
     "output_type": "stream",
     "text": [
      "found a duplicate!\n"
     ]
    }
   ],
   "source": [
    "def isduplicate(li):\n",
    "    for j in range(len(num_list)):\n",
    "        for k in range(len(num_list)):\n",
    "            if num_list[j] == num_list[k]:\n",
    "                print(\"found a duplicate\")\n",
    "                return\n",
    "isduplicate(num_list)        "
   ]
  },
  {
   "cell_type": "code",
   "execution_count": 31,
   "id": "0fd6baad",
   "metadata": {},
   "outputs": [],
   "source": [
    "def isprime(num):\n",
    "    if num > 1:\n",
    "        for i in range(2, int(num/2)+1):\n",
    "            if (num % i) == 0:\n",
    "                return False\n",
    "                break\n",
    "        else:\n",
    "            return True\n",
    "    else:\n",
    "        return False"
   ]
  },
  {
   "cell_type": "code",
   "execution_count": 48,
   "id": "3eaba205",
   "metadata": {},
   "outputs": [
    {
     "data": {
      "text/plain": [
       "[8, 6, 9, 8, 1, 4]"
      ]
     },
     "execution_count": 48,
     "metadata": {},
     "output_type": "execute_result"
    }
   ],
   "source": [
    "num_list_1 = [2, 5, 8, 3, 6, 2, 9, 8, 7, 1, 4, 3, 5]\n",
    "def remove_prime(li):\n",
    "    return [num for num in li if not isprime(num)] \n",
    "    \n",
    "remove_prime(num_list_1)"
   ]
  },
  {
   "cell_type": "markdown",
   "id": "44f5f7cf",
   "metadata": {},
   "source": [
    "# 05\n",
    "Write a Python program that takes a list of integers as input and checks if the list is in non-decreasing order. A list is considered non-decreasing if each element is greater than or equal to the previous element.\n",
    "\n",
    "\n"
   ]
  },
  {
   "cell_type": "code",
   "execution_count": 10,
   "id": "36f7d054",
   "metadata": {},
   "outputs": [
    {
     "name": "stdout",
     "output_type": "stream",
     "text": [
      "list is in decreasing order\n",
      "list is in non-decreasing order\n"
     ]
    }
   ],
   "source": [
    "list1 = [1,2,4,5,6,7,9]\n",
    "list2 = [9,2,4,5,8,6,7,9]\n",
    "\n",
    "def check_list_sorted(li):\n",
    "    flag = 0\n",
    "    for i in range(len(li)-1):\n",
    "        if li[i] >= li[i+1]:\n",
    "            flag = 1      \n",
    "    if flag == 1:\n",
    "        print('list is in non-decreasing order')\n",
    "    else:\n",
    "        print('list is in decreasing order')\n",
    "\n",
    "check_list_sorted(list1)\n",
    "check_list_sorted(list2)"
   ]
  },
  {
   "cell_type": "markdown",
   "id": "9d143b34",
   "metadata": {},
   "source": [
    "# 06 \n",
    "Write a Python program that takes three integers as input and determines if they form a Pythagorean triplet. A Pythagorean triplet consists of three positive integers (a, b, c) such that a^2 + b^2 = c^2."
   ]
  },
  {
   "cell_type": "code",
   "execution_count": null,
   "id": "de92773c",
   "metadata": {},
   "outputs": [],
   "source": [
    "a,b,c = input(\"enter three space seprated numbers: \").split(\" \")\n",
    "def func_py(a,b,c):  \n",
    "    a_b_square = (int(a)**2) + (int(b)**2)\n",
    "    c_square = (int(c)**2)   \n",
    "    if a_b_square == c_square:\n",
    "        print(\"Yes\")\n",
    "    else:\n",
    "        print('No')\n",
    "func_py(a,b,c)\n",
    "# 3 4 5"
   ]
  },
  {
   "cell_type": "markdown",
   "id": "06c8f458",
   "metadata": {},
   "source": [
    "# 07 \n",
    "Use a for loop calculate the sum of all even numbers between 1 and 10.\n"
   ]
  },
  {
   "cell_type": "code",
   "execution_count": 11,
   "id": "79363e91",
   "metadata": {},
   "outputs": [
    {
     "name": "stdout",
     "output_type": "stream",
     "text": [
      "30\n"
     ]
    }
   ],
   "source": [
    "total = 0\n",
    "for i in range(1,11):\n",
    "    if i % 2 == 0:\n",
    "        total = total + i        \n",
    "print(total)"
   ]
  },
  {
   "cell_type": "markdown",
   "id": "0e092f16",
   "metadata": {},
   "source": [
    "# 08\n",
    "Use a while loop to write a program that prompts the user to enter a password and validates its strength based on the criteria(Minimum length 8). The program should continue to prompt the user until a strong password is entered.\n",
    "Feel free to write the prompt message as per your choice."
   ]
  },
  {
   "cell_type": "code",
   "execution_count": 1,
   "id": "349be66d",
   "metadata": {},
   "outputs": [
    {
     "name": "stdout",
     "output_type": "stream",
     "text": [
      "Enter strong password: adc\n",
      "Enter valid password\n",
      "Enter strong password: adfsfdf\n",
      "Enter valid password\n",
      "Enter strong password: abhishek\n"
     ]
    }
   ],
   "source": [
    "while True:\n",
    "    password = input(\"Enter strong password: \")\n",
    "    if len(password) < 8:\n",
    "        print(\"Please enter valid password\")\n",
    "    if len(password) >= 8:\n",
    "        break\n",
    "        "
   ]
  },
  {
   "cell_type": "markdown",
   "id": "c8e24690",
   "metadata": {},
   "source": [
    "# 09\n",
    "\n",
    "Write a Python function called 'is_palindrome' that takes a string as input and returns True if the string is a palindrome, and False otherwise. *A palindrome is a word, phrase, number, or other sequence of characters that reads the same forward and backward, ignoring any non-alphanumeric characters and considering case sensitivity.\n",
    "\n",
    "Sample String: \"A man, a plan, a canal: Panama\"."
   ]
  },
  {
   "cell_type": "code",
   "execution_count": 30,
   "id": "e9064695",
   "metadata": {},
   "outputs": [
    {
     "name": "stdout",
     "output_type": "stream",
     "text": [
      "Please enter your input string: mom\n",
      "it is a panlindrome\n"
     ]
    }
   ],
   "source": [
    "def ispalindrome(strinput = input(\"Please enter your input string: \")):\n",
    "    s = strinput.replace(\" \", \"\").lower()\n",
    "    if s == s[::-1]:\n",
    "        print(\"it is a panlindrome\")\n",
    "    else:\n",
    "        print(\"it is not a palindrome\")\n",
    "        \n",
    "ispalindrome()"
   ]
  },
  {
   "cell_type": "markdown",
   "id": "c278b03a",
   "metadata": {},
   "source": [
    "# 10\n",
    "Write a Python function called 'find_duplicates' that takes a list of numbers as input and returns a new list containing only the duplicate numbers from the original list. The order of the duplicate numbers in the new list should be the same as their order in the original list.\n",
    "\n",
    "Sample List: [1, 2, 3, 4, 4, 5, 6, 7, 7, 8, 9, 9]."
   ]
  },
  {
   "cell_type": "code",
   "execution_count": 47,
   "id": "79ab9c4b",
   "metadata": {},
   "outputs": [
    {
     "name": "stdout",
     "output_type": "stream",
     "text": [
      "please enter space seprated list4 5 6 6 9 8 7 3 2 \n",
      "['6']\n"
     ]
    }
   ],
   "source": [
    "def find_duplicates(li = input(\"please enter space seprated list\").split()):\n",
    "    dup_list = []\n",
    "    for i in li:\n",
    "        if li.count(i) > 1 and i not in dup_list:\n",
    "            dup_list.append(i)\n",
    "    print(dup_list)\n",
    "    \n",
    "find_duplicates()\n",
    "    "
   ]
  },
  {
   "cell_type": "code",
   "execution_count": 15,
   "id": "5ace0a4c",
   "metadata": {},
   "outputs": [
    {
     "name": "stdout",
     "output_type": "stream",
     "text": [
      "4 5 8\n"
     ]
    }
   ],
   "source": [
    "# Multiple return\n",
    "def compare_numbers():\n",
    "    a = 4\n",
    "    b = 5\n",
    "    c = 8\n",
    "    if a < b:\n",
    "        return a , b , c\n",
    "    \n",
    "\n",
    "a , b, c = compare_numbers()\n",
    "print(a , b, c)"
   ]
  },
  {
   "cell_type": "markdown",
   "id": "22ef4fff",
   "metadata": {},
   "source": [
    "# 11\n",
    "Write a Python function called convert_to_celsius() that takes a list of temperatures in Fahrenheit and uses the map() function to convert each temperature to Celsius. The formula to convert Fahrenheit to Celsius is (temperature - 32) * 5/9. The function should return a new list containing the converted temperatures.\n",
    "sample- temperatures = [98.6, 72, 212, 45, 88.8]"
   ]
  },
  {
   "cell_type": "code",
   "execution_count": 2,
   "id": "be2af72e",
   "metadata": {},
   "outputs": [
    {
     "name": "stdout",
     "output_type": "stream",
     "text": [
      "[37.0, 22.22, 100.0, 7.22, 31.56]\n"
     ]
    }
   ],
   "source": [
    "temperatures = [98.6, 72, 212, 45, 88.8]\n",
    "def convert_to_celsius(temp):\n",
    "    celsius = list(map(lambda x : round(((x - 32)*5/9),2) , temp))\n",
    "    print(celsius)\n",
    "convert_to_celsius(temperatures)"
   ]
  },
  {
   "cell_type": "markdown",
   "id": "505f57f9",
   "metadata": {},
   "source": [
    "# 12\n",
    "Write a Python function called find_product() that uses the reduce() function to calculate the product of all the numbers in a given list. The function should take a list of integers as input and return the product as an integer.\n",
    "sample list- numbers = [2, 4, 6, 8]"
   ]
  },
  {
   "cell_type": "code",
   "execution_count": 4,
   "id": "8907cca0",
   "metadata": {},
   "outputs": [
    {
     "name": "stdout",
     "output_type": "stream",
     "text": [
      "384\n"
     ]
    }
   ],
   "source": [
    "from functools import reduce\n",
    "numbers = [2, 4, 6, 8]\n",
    "def find_product(n):\n",
    "    print(reduce(lambda x, y : x * y, n))\n",
    "find_product(numbers)\n",
    "    \n",
    "#print(reduce(lambda x, y: x + y, (0, 3, 4, 1, -1)))    "
   ]
  },
  {
   "cell_type": "code",
   "execution_count": 1,
   "id": "ae09093a",
   "metadata": {},
   "outputs": [
    {
     "data": {
      "text/plain": [
       "5"
      ]
     },
     "execution_count": 1,
     "metadata": {},
     "output_type": "execute_result"
    }
   ],
   "source": [
    "lst = [8, 6, 8, 10, 8, 20, 10, 8, 8]\n",
    "x = lst.count(8)\n",
    "x"
   ]
  },
  {
   "cell_type": "markdown",
   "id": "c046b0c6",
   "metadata": {},
   "source": [
    "# 13 \n",
    "Given a string s, reverse only all the vowels in the string and return it.\n",
    "The vowels are 'a', 'e', 'i', 'o', and 'u', and they can appear in both lower and upper cases, more than once.\n",
    "\n",
    "Example 1:\n",
    "Input: s = \"hello\"\n",
    "Output: \"holle\"\n",
    "\n",
    "Example 2:\n",
    "Input: s = \"leetcode\"\n",
    "Output: \"leotcede\""
   ]
  },
  {
   "cell_type": "code",
   "execution_count": 15,
   "id": "fc9ec0ae",
   "metadata": {},
   "outputs": [
    {
     "data": {
      "text/plain": [
       "'ear'"
      ]
     },
     "execution_count": 15,
     "metadata": {},
     "output_type": "execute_result"
    }
   ],
   "source": [
    "def reverseVowels(s: str) -> str:\n",
    "        vowel = \"\"\n",
    "        for i in range(len(s)):\n",
    "            if s[i] == 'a' or s[i] == 'e' or s[i] == 'i' or s[i] == 'o' or s[i] == 'u':\n",
    "                vowel += s[i]\n",
    "        rev_vowel = vowel[::-1]\n",
    "        \n",
    "        rstr = \"\"\n",
    "        r = 0\n",
    "        for i in range(0,len(s),1):      \n",
    "            if s[i] == 'a' or s[i] == 'e' or s[i] == 'i' or s[i] == 'o' or s[i] == 'u':         \n",
    "                rstr += rev_vowel[r]\n",
    "                r += 1\n",
    "            else:\n",
    "                rstr += s[i]   \n",
    "        return rstr\n",
    "    \n",
    "reverseVowels(\"aer\")"
   ]
  },
  {
   "cell_type": "markdown",
   "id": "79839e3a",
   "metadata": {},
   "source": [
    "# 14\n",
    "Here are the practice questions for python generators.\n",
    "\n",
    "1- Write a generator function that yields the numbers from 1 to 5.  \n",
    "2- Create a generator function that generates the even numbers from 1 to 10. \n",
    "3- Write a generator function that returns the lowercase alphabets from 'a' to 'z'.  \n",
    "4- Implement a generator function that yields the square of numbers up to limit 5.  \n",
    "5- Create a generator function that iterates over a list of integers and yields only the positive numbers.  \n",
    "   Sample_list = [1,2,3,-4,-5,-6] "
   ]
  },
  {
   "cell_type": "code",
   "execution_count": 18,
   "id": "ea7cdc74",
   "metadata": {},
   "outputs": [
    {
     "name": "stdout",
     "output_type": "stream",
     "text": [
      "1 2 3 4 5 "
     ]
    }
   ],
   "source": [
    "def gen(start, end):\n",
    "    while start < end+1:\n",
    "        yield start\n",
    "        start += 1\n",
    "for x in gen(1, 5):\n",
    "    print(x, end=' ')"
   ]
  },
  {
   "cell_type": "code",
   "execution_count": 23,
   "id": "44526b9a",
   "metadata": {},
   "outputs": [
    {
     "name": "stdout",
     "output_type": "stream",
     "text": [
      "2 4 6 8 10 "
     ]
    }
   ],
   "source": [
    "def gen1(start, end):\n",
    "    while start < end+1:\n",
    "        if (start%2) == 0:\n",
    "            yield start\n",
    "        start += 1\n",
    "for x in gen1(1, 10):\n",
    "    print(x, end=' ')"
   ]
  },
  {
   "cell_type": "code",
   "execution_count": 27,
   "id": "18caeb9e",
   "metadata": {},
   "outputs": [
    {
     "name": "stdout",
     "output_type": "stream",
     "text": [
      "a b c d e f g h i j k l m n o p q r s t u v w x y z "
     ]
    }
   ],
   "source": [
    "def gen3(char: str, steps: int) -> str:\n",
    "    assci_ord = ord(char)\n",
    "    stop_point = assci_ord + steps\n",
    "    while assci_ord < stop_point:\n",
    "        yield char\n",
    "        assci_ord += 1\n",
    "        char = chr(assci_ord)\n",
    "\n",
    "for char in gen3('a', 26):\n",
    "    print(char, end=' ')"
   ]
  },
  {
   "cell_type": "code",
   "execution_count": 28,
   "id": "db2be5d3",
   "metadata": {},
   "outputs": [
    {
     "name": "stdout",
     "output_type": "stream",
     "text": [
      "1\n",
      "4\n",
      "9\n",
      "16\n",
      "25\n"
     ]
    }
   ],
   "source": [
    "def gen4(limit):\n",
    "    num = 1\n",
    "    while num <= limit:\n",
    "        yield num ** 2\n",
    "        num += 1     \n",
    "for square in gen4(5):\n",
    "    print(square)"
   ]
  },
  {
   "cell_type": "code",
   "execution_count": 33,
   "id": "884bcab1",
   "metadata": {},
   "outputs": [
    {
     "name": "stdout",
     "output_type": "stream",
     "text": [
      "1\n",
      "2\n",
      "3\n",
      "7\n"
     ]
    }
   ],
   "source": [
    "Sample_list = [1,2,3,-4,-5,-6,7]\n",
    "def gen4(li):\n",
    "    for i in range(len(li)):\n",
    "        if li[i] > 0:\n",
    "            yield li[i]\n",
    "for i in gen4(Sample_list):\n",
    "    print(i)"
   ]
  },
  {
   "cell_type": "markdown",
   "id": "e6bc61d6",
   "metadata": {},
   "source": [
    "# 15\n",
    "1768. Merge Strings Alternately\n",
    "You are given two strings word1 and word2. Merge the strings by adding letters in alternating order, starting with word1. If a string is longer than the other, append the additional letters onto the end of the merged string.\n",
    "Return the merged string.    \n",
    "\n",
    "Example 1:   \n",
    "Input: word1 = \"abc\", word2 = \"pqr\"  \n",
    "Output: \"apbqcr\"  \n",
    "Explanation: The merged string will be merged as so:  \n",
    "word1:  a   b   c  \n",
    "word2:    p   q   r  \n",
    "merged: a p b q c r  "
   ]
  },
  {
   "cell_type": "code",
   "execution_count": 42,
   "id": "25508bd2",
   "metadata": {},
   "outputs": [],
   "source": [
    "def mergeAlternately(x: str, y: str) -> str:\n",
    "    res = \"\"\n",
    "    mn = min(len(x), len(y))\n",
    "    mx = max(len(x), len(y))\n",
    "    for i in range(mn):\n",
    "        res += x[i]\n",
    "        res += y[i]\n",
    "    if len(x) > len(y):\n",
    "        res += x[mn:]\n",
    "    else:\n",
    "        res += y[mn:]\n",
    "    return res"
   ]
  },
  {
   "cell_type": "code",
   "execution_count": 45,
   "id": "be96806d",
   "metadata": {},
   "outputs": [
    {
     "data": {
      "text/plain": [
       "'apbqcr'"
      ]
     },
     "execution_count": 45,
     "metadata": {},
     "output_type": "execute_result"
    }
   ],
   "source": [
    "mergeAlternately(\"abc\",\"pqr\")"
   ]
  },
  {
   "cell_type": "code",
   "execution_count": 46,
   "id": "d17d1205",
   "metadata": {},
   "outputs": [
    {
     "data": {
      "text/plain": [
       "'apbqcrxyz'"
      ]
     },
     "execution_count": 46,
     "metadata": {},
     "output_type": "execute_result"
    }
   ],
   "source": [
    "mergeAlternately(\"abc\",\"pqrxyz\")"
   ]
  },
  {
   "cell_type": "markdown",
   "id": "6b407bb3",
   "metadata": {},
   "source": [
    "# 16 \n",
    "1071. Greatest Common Divisor of Strings\n",
    "\n",
    "For two strings s and t, we say \"t divides s\" if and only if s = t + ... + t (i.e., t is concatenated with itself one or more times).\n",
    "Given two strings str1 and str2, return the largest string x such that x divides both str1 and str2.\n",
    "\n",
    "Example 1:\n",
    "Input: str1 = \"ABCABC\", str2 = \"ABC\"\n",
    "Output: \"ABC\"\n",
    "    \n",
    "Example 2:\n",
    "Input: str1 = \"ABABAB\", str2 = \"ABAB\"\n",
    "Output: \"AB\"\n",
    "    \n",
    "Example 3:\n",
    "Input: str1 = \"LEET\", str2 = \"CODE\"\n",
    "Output: \"\""
   ]
  },
  {
   "cell_type": "code",
   "execution_count": 47,
   "id": "b330ef41",
   "metadata": {},
   "outputs": [],
   "source": [
    "def gcdOfStrings(str1: str, str2: str) -> str:\n",
    "        len1, len2 = len(str1), len(str2)\n",
    "        \n",
    "        def valid(k):\n",
    "            if len1 % k or len2 % k: \n",
    "                return False\n",
    "            n1, n2 = len1 // k, len2 // k\n",
    "            base = str1[:k]\n",
    "            return str1 == n1 * base and str2 == n2 * base \n",
    "        \n",
    "        for i in range(min(len1, len2), 0, -1):\n",
    "            if valid(i):\n",
    "                return str1[:i]\n",
    "        return \"\""
   ]
  },
  {
   "cell_type": "code",
   "execution_count": 48,
   "id": "82f1bea2",
   "metadata": {},
   "outputs": [
    {
     "data": {
      "text/plain": [
       "'ABC'"
      ]
     },
     "execution_count": 48,
     "metadata": {},
     "output_type": "execute_result"
    }
   ],
   "source": [
    "gcdOfStrings(\"ABCABC\", \"ABC\")"
   ]
  },
  {
   "cell_type": "code",
   "execution_count": 49,
   "id": "e97176af",
   "metadata": {},
   "outputs": [
    {
     "data": {
      "text/plain": [
       "'AB'"
      ]
     },
     "execution_count": 49,
     "metadata": {},
     "output_type": "execute_result"
    }
   ],
   "source": [
    "gcdOfStrings(\"ABABAB\", \"ABAB\")"
   ]
  },
  {
   "cell_type": "markdown",
   "id": "ebeb263e",
   "metadata": {},
   "source": [
    "# 17\n",
    "1431. Kids With the Greatest Number of Candies\n",
    "\n",
    "There are n kids with candies. You are given an integer array candies, where each candies[i] represents the number of candies the ith kid has, and an integer extraCandies, denoting the number of extra candies that you have.\n",
    "Return a boolean array result of length n, where result[i] is true if, after giving the ith kid all the extraCandies, they will have the greatest number of candies among all the kids, or false otherwise.\n",
    "Note that multiple kids can have the greatest number of candies.\n",
    "\n",
    "Example 1:\n",
    "Input: candies = [2,3,5,1,3], extraCandies = 3\n",
    "Output: [true,true,true,false,true] \n",
    "Explanation: If you give all extraCandies to:\n",
    "- Kid 1, they will have 2 + 3 = 5 candies, which is the greatest among the kids.\n",
    "- Kid 2, they will have 3 + 3 = 6 candies, which is the greatest among the kids.\n",
    "- Kid 3, they will have 5 + 3 = 8 candies, which is the greatest among the kids.\n",
    "- Kid 4, they will have 1 + 3 = 4 candies, which is not the greatest among the kids.\n",
    "- Kid 5, they will have 3 + 3 = 6 candies, which is the greatest among the kids.\n",
    "\n",
    "Example 2:\n",
    "Input: candies = [4,2,1,1,2], extraCandies = 1\n",
    "Output: [true,false,false,false,false] \n",
    "Explanation: There is only 1 extra candy.\n",
    "Kid 1 will always have the greatest number of candies, even if a different kid is given the extra candy.\n",
    "\n",
    "Example 3:\n",
    "Input: candies = [12,1,12], extraCandies = 10\n",
    "Output: [true,false,true]"
   ]
  },
  {
   "cell_type": "code",
   "execution_count": 55,
   "id": "63d76dd0",
   "metadata": {},
   "outputs": [],
   "source": [
    "def kidsWithCandies(candies,extraCandies):\n",
    "        maxn = max(candies)\n",
    "        li = list(map(lambda x : True if (x + extraCandies) >= maxn else False,candies))\n",
    "        return li"
   ]
  },
  {
   "cell_type": "code",
   "execution_count": 56,
   "id": "881d2557",
   "metadata": {},
   "outputs": [
    {
     "data": {
      "text/plain": [
       "[True, True, True, False, True]"
      ]
     },
     "execution_count": 56,
     "metadata": {},
     "output_type": "execute_result"
    }
   ],
   "source": [
    "kidsWithCandies([2,3,5,1,3],3)"
   ]
  },
  {
   "cell_type": "code",
   "execution_count": 57,
   "id": "ea314bc9",
   "metadata": {},
   "outputs": [
    {
     "data": {
      "text/plain": [
       "[True, False, False, False, False]"
      ]
     },
     "execution_count": 57,
     "metadata": {},
     "output_type": "execute_result"
    }
   ],
   "source": [
    "kidsWithCandies([4,2,1,1,2],1)"
   ]
  },
  {
   "cell_type": "markdown",
   "id": "df89e3e1",
   "metadata": {},
   "source": [
    "# 18\n",
    "605. Can Place Flowers  \n",
    "You have a long flowerbed in which some of the plots are planted, and some are not. However, flowers cannot be planted in adjacent plots.   \n",
    "Given an integer array flowerbed containing 0's and 1's, where 0 means empty and 1 means not empty, and an integer n, return true if n new flowers can be planted in the flowerbed without violating the no-adjacent-flowers rule and false otherwise.   \n",
    "\n",
    "Example 1:  \n",
    "Input: flowerbed = [1,0,0,0,1], n = 1   \n",
    "Output: true  \n",
    " \n",
    "Example 2:  \n",
    "Input: flowerbed = [1,0,0,0,1], n = 2  \n",
    "Output: false   "
   ]
  },
  {
   "cell_type": "code",
   "execution_count": 60,
   "id": "a1fb5e46",
   "metadata": {},
   "outputs": [],
   "source": [
    "def canPlaceFlowers(flowerbed, n: int):\n",
    "        a = 0\n",
    "        for i in range(len(flowerbed)):\n",
    "            if flowerbed[i]==0 and ((i == len(flowerbed) - 1) or (flowerbed[i + 1] == 0)) and ((i == 0) or (flowerbed[i - 1] == 0)) :\n",
    "                flowerbed[i] = 1\n",
    "                a += 1\n",
    "        if a >= n:\n",
    "            return True\n",
    "        else:\n",
    "            return False"
   ]
  },
  {
   "cell_type": "code",
   "execution_count": 61,
   "id": "41d7e7ad",
   "metadata": {},
   "outputs": [
    {
     "data": {
      "text/plain": [
       "True"
      ]
     },
     "execution_count": 61,
     "metadata": {},
     "output_type": "execute_result"
    }
   ],
   "source": [
    "canPlaceFlowers([1,0,0,0,1],1)"
   ]
  },
  {
   "cell_type": "code",
   "execution_count": null,
   "id": "95c1e33c",
   "metadata": {},
   "outputs": [],
   "source": []
  }
 ],
 "metadata": {
  "kernelspec": {
   "display_name": "Python 3 (ipykernel)",
   "language": "python",
   "name": "python3"
  },
  "language_info": {
   "codemirror_mode": {
    "name": "ipython",
    "version": 3
   },
   "file_extension": ".py",
   "mimetype": "text/x-python",
   "name": "python",
   "nbconvert_exporter": "python",
   "pygments_lexer": "ipython3",
   "version": "3.10.9"
  }
 },
 "nbformat": 4,
 "nbformat_minor": 5
}
